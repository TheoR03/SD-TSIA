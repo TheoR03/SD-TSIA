{
 "cells": [
  {
   "cell_type": "markdown",
   "metadata": {},
   "source": [
    "# Computer Lab: nonnegative matrix factorization\n",
    "\n",
    "This report of SD-TSIA211 was made by <font color=\"red\"><b>Gaspard Robert</b></font> and <font color=\"red\"><b>Théo Rouvet</b></font>.\n",
    "\n",
    "The beginning consists in appropriate library importations, as well as useful processing functions definition."
   ]
  },
  {
   "cell_type": "code",
   "execution_count": 1,
   "metadata": {},
   "outputs": [],
   "source": [
    "import numpy as np\n",
    "import matplotlib.pyplot as plt\n",
    "import scipy.optimize\n",
    "import scipy.sparse\n",
    "import scipy.sparse.linalg\n",
    "from time import time"
   ]
  },
  {
   "cell_type": "code",
   "execution_count": 2,
   "metadata": {},
   "outputs": [],
   "source": [
    "def build_matrix_from_faces(folder='orl_faces', minidata=False):\n",
    "    # load images\n",
    "    # 400 images of size (112, 92)\n",
    "    M = []\n",
    "    if minidata is True:\n",
    "        nb_subjects = 1\n",
    "    else:\n",
    "        nb_subjects = 40\n",
    "    for subject in range(1, nb_subjects + 1\n",
    "                        ):\n",
    "        for image in range(1, 11):\n",
    "            face = plt.imread(folder + '/s' + str(subject)\n",
    "                              + '/' + str(image) + '.pgm')\n",
    "            M.append(face.ravel())\n",
    "\n",
    "    return np.array(M, dtype=float)\n",
    "\n",
    "def vectorize(W, H):\n",
    "    return np.concatenate((W.ravel(), H.ravel()))\n",
    "\n",
    "def unvectorize_M(W_H, M):\n",
    "    # number of elements in W_H is (n+p)*k where M is of size n x m\n",
    "    # W has the nk first elements\n",
    "    # H has the kp last elements\n",
    "    n, p = M.shape\n",
    "    k = W_H.shape[0] // (n + p)\n",
    "    W = W_H[:n * k].reshape((n, k))\n",
    "    H = W_H[n * k:].reshape((k, p))\n",
    "    return W, H"
   ]
  },
  {
   "cell_type": "markdown",
   "metadata": {
    "collapsed": true
   },
   "source": [
    "Download the database at https://www.cl.cam.ac.uk/research/dtg/attarchive/facedatabase.html.\n",
    "Uncompress the file."
   ]
  },
  {
   "cell_type": "code",
   "execution_count": 3,
   "metadata": {},
   "outputs": [],
   "source": [
    "# Small data to test the algorithm\n",
    "M = build_matrix_from_faces(folder=\"./orl_faces\", minidata=False)\n",
    "def unvectorize(W_H): return unvectorize_M(W_H, M)\n",
    "k = 38"
   ]
  },
  {
   "cell_type": "code",
   "execution_count": 4,
   "metadata": {},
   "outputs": [
    {
     "data": {
      "image/png": "[encoded data removed]",
      "text/plain": [
       "<Figure size 432x288 with 1 Axes>"
      ]
     },
     "metadata": {
      "needs_background": "light"
     },
     "output_type": "display_data"
    }
   ],
   "source": [
    "# To see the first face:\n",
    "plt.imshow(M[0].reshape((112, 92)), cmap='gray'); plt.show()"
   ]
  },
  {
   "cell_type": "markdown",
   "metadata": {},
   "source": [
    "## Part 1 - Database"
   ]
  },
  {
   "cell_type": "code",
   "execution_count": 5,
   "metadata": {},
   "outputs": [
    {
     "name": "stdout",
     "output_type": "stream",
     "text": [
      "(400, 10304)\n"
     ]
    }
   ],
   "source": [
    "# Full data\n",
    "M = build_matrix_from_faces(folder='orl_faces', minidata=False)\n",
    "def unvectorize(W_H): return unvectorize_M(W_H, M)\n",
    "k = 38\n",
    "n = M.shape[0]\n",
    "p = M.shape[1]\n",
    "print(M.shape)"
   ]
  },
  {
   "cell_type": "markdown",
   "metadata": {},
   "source": [
    "The database is composed of **400 images of size $(112,92)$**, as 112*92 = 10304."
   ]
  },
  {
   "cell_type": "markdown",
   "metadata": {},
   "source": [
    "## Part 2 - Presentation of the model"
   ]
  },
  {
   "cell_type": "markdown",
   "metadata": {},
   "source": [
    "### Question 2.1"
   ]
  },
  {
   "cell_type": "markdown",
   "metadata": {},
   "source": [
    "We note $f(x,y) = (\\alpha -xy)^2$ where $\\alpha$ is a given nonnegative real number. $f$ is of $C^2$-class (i.e. it is twice continuously differentiable) on $(\\mathbb{R^+})^2$ as a polynomial function of $x$ and $y$. \n",
    "\n",
    "The Hessian matrix of $f$ is: $$\\forall x,y \\in \\mathbb{R^+}, \\nabla^2f(x,y) = \\left( {\\begin{array}{cc}\n",
    "     2y^2 & -2\\alpha + 4xy  \\\\\n",
    "     -2\\alpha + 4xy & 2x^2 \\\\\n",
    "     \\end{array} } \\right)$$\n",
    "\n",
    "Therefore, its determinant is: $$\\forall x,y \\in \\mathbb{R^+}, \\text{D}(x,y) = \\text{det}(\\nabla^2f(x,y)) = -12x^2y^2 + 16\\alpha xy -4\\alpha^2 $$\n",
    "\n",
    "We know from MDI210 that **a function twice continously differentiable is convex if and only if its Hessian Matrix is nonnegative at each point of the set**. \n",
    "\n",
    "The determinant of the Hessian matrix being the product of the eigen values of $\\nabla^2f$, in order to **prove that $f$ is not convex, it is sufficient to show that $\\exists (x_0,y_0) \\in (\\mathbb{R^+})^2, \\text{D}(x_0,y_0) < 0$**.\n",
    "\n",
    "Let us set a given $y_0 \\in \\mathbb{R^+}$. It is obvious that $\\underset{x \\rightarrow +\\infty}{\\lim} D(x,y_0) = -\\infty$, hence $\\exists x_0 \\in \\mathbb{R^+}, \\text{D}(x_0,y_0) < 0$, so the determinant of the Hessian Matrix is negative at this point, so **the Hessian matrix is not nonnegative at this point** (its eigen values are of opposite sign, so one of them is negative).\n",
    "\n",
    "To conclude, **we have shown that $f$ is not a convex function**. This result can be generalised for higher dimension."
   ]
  },
  {
   "cell_type": "markdown",
   "metadata": {},
   "source": [
    "### Question 2.2\n",
    "\n",
    "For the following, we will denote $$f :  (W,H) \\mapsto \\frac{1}{2np} \\sum_{i=1}^n \\sum_{l=1}^n \\left(M_{i,l} - \\sum_{j=1}^k W_{i,j}H_{j,l}\\right)^2 = \\frac{1}{2np} \\|M-WH\\|_F^2$$\n",
    "\n",
    "as being **the objective function**, defined for couples of nonnegatives matrices. Using the canonical rules for norm and scalar product derivations, we obtain the derivatives of order 1 for $f$ : $$\\nabla f(W,H) = \\left(\\frac{\\partial f}{\\partial W}(W,H), \\text{ } \\frac{\\partial f}{\\partial H}(W,H)\\right) = \\left(\\frac{1}{np}(WH-M)H^T, \\text{ } \\frac{1}{np}W^T(WH-M) \\right) $$\n",
    "\n",
    "We then have computed the components of the gradient vector of the objective function."
   ]
  },
  {
   "cell_type": "markdown",
   "metadata": {},
   "source": [
    "## Part 3 - Find $W$ when $H_0$ is fixed"
   ]
  },
  {
   "cell_type": "markdown",
   "metadata": {},
   "source": [
    "### Question 3.1"
   ]
  },
  {
   "cell_type": "code",
   "execution_count": 6,
   "metadata": {},
   "outputs": [],
   "source": [
    "W0, S, H0 = scipy.sparse.linalg.svds(M, k)\n",
    "W0 = np.maximum(0, W0*np.sqrt(S))\n",
    "H0 = np.maximum(0, (H0.T*np.sqrt(S)).T)"
   ]
  },
  {
   "cell_type": "markdown",
   "metadata": {},
   "source": [
    "The singular value decompositions (svds) decompose the matrix $M$ as the product of three matrices: $M = W_0SH_0^T$, with $S$ a diagonal matrix containing the singular values of $M$ (which are **nonnegative**). \n",
    "\n",
    "We wish to have a decomposition of $M$ as the product of two matrices, so it is natural to \"split\" the matrix S using the square root: $ S = \\sqrt{S} \\cdot \\sqrt{S} $ where \n",
    "\n",
    "$$ \\sqrt{S} = \\left( {\\begin{array}{cccccccc}\n",
    "     \\sqrt{\\lambda_1} & 0 & . & . & . & . & . & 0 \\\\\n",
    "     0 & \\sqrt{\\lambda_2} & . & . & . & . & . & . \\\\\n",
    "     . & . & . & . & . & . & . & . \\\\\n",
    "     . & . & . & . & . & . & . & . \\\\\n",
    "     . & . & . & . & \\sqrt{\\lambda_r} & . & . & .  \\\\\n",
    "     . & . & . & . & . & 0 & . & .\\\\\n",
    "     . & . & . & . & . & . & . & . \\\\\n",
    "     0 & . & . & . & . & . & . & 0 \\\\\n",
    "     \\end{array} } \\right) = diag(\\sqrt{\\lambda_1}, ..., \\sqrt{\\lambda_r}, 0, ..., 0)$$ as all the $\\sqrt{\\lambda_i}$ are nonnegative.\n",
    "     \n",
    "     \n",
    "Having done so, we write $M = A \\cdot B$, with:\n",
    "* $ A = max(0, W_0 \\sqrt{S})$ as we wish to keep working with nonnegative matrices \n",
    "* $B =max(0, \\sqrt{S}H_0^T)$ for the same reason.\n",
    "\n",
    "The **advantage of this method** is that we might get the proper $M=WH_0$ directly if the computed matrices are nonnegative (and it is rather natural to initialise the algorithm with this). We can imagine starting with random matrices as well, which seems less appropriate at first."
   ]
  },
  {
   "cell_type": "markdown",
   "metadata": {},
   "source": [
    "### Question 3.2"
   ]
  },
  {
   "cell_type": "markdown",
   "metadata": {},
   "source": [
    "We have $g(W)=\\frac{1}{2np}\\|M-WH_0\\|_F^2$\n",
    "\n",
    "Let's comupte the **gradient** of $g(W)$: $\\nabla{g}(W) = -\\frac{1}{np}(M-WH_0)H_0^T$\n",
    "\n",
    "Then, the **Hessian matrix** of g is : $\\nabla^2 g(W) = \\frac{1}{np}H_0H_0^T$\n",
    "\n",
    "It is positive semi-definite because $\\nabla^2 g(W) = N^TN$ with $N=\\frac{1}{\\sqrt{np}}H_0^T$\n",
    "Hence, we deduce that <font color=\"red\"><b> g is convex </b></font>."
   ]
  },
  {
   "cell_type": "markdown",
   "metadata": {},
   "source": [
    "### Question 3.3\n",
    "\n",
    "We write the suggested functions."
   ]
  },
  {
   "cell_type": "code",
   "execution_count": 7,
   "metadata": {},
   "outputs": [],
   "source": [
    "def g(W):\n",
    "    return (1/(2*n*p))*np.linalg.norm(M-np.dot(W,H0), 'fro')**2\n",
    "\n",
    "def gradg(W):\n",
    "    return (-1/(n*p))*np.dot((M-np.dot(W,H0)),H0.T)\n",
    "\n",
    "\n",
    "# reshaped functions for scipy.optimize.check_grad\n",
    "\n",
    "def g_bis(W_bis):\n",
    "    return 1/(2*n*p)* np.linalg.norm(M.reshape(-1)-(W_bis.reshape((n,k))@H0).reshape(-1))**2\n",
    "\n",
    "def grad_g_bis(W_bis):\n",
    "    return ((M -(W_bis.reshape((n,k)))@H0)@H0.T).reshape(-1)/(-n*p)"
   ]
  },
  {
   "cell_type": "markdown",
   "metadata": {},
   "source": [
    "We check whether the functions are correct using $W_0$ defined with the svds method, and the reshaped version of our fonctions."
   ]
  },
  {
   "cell_type": "code",
   "execution_count": 8,
   "metadata": {},
   "outputs": [
    {
     "data": {
      "text/plain": [
       "0.002216352437803484"
      ]
     },
     "execution_count": 8,
     "metadata": {},
     "output_type": "execute_result"
    }
   ],
   "source": [
    "scipy.optimize.check_grad(g_bis, grad_g_bis, W0.reshape(-1))"
   ]
  },
  {
   "cell_type": "markdown",
   "metadata": {},
   "source": [
    "The precision yielded out is of order of magnitude $10^{-3}$ so it is rightful to assume that the functions are correct as so."
   ]
  },
  {
   "cell_type": "markdown",
   "metadata": {},
   "source": [
    "### Question 3.4\n",
    "\n",
    "We remind that, for all $\\gamma>0$, the proximal operator is defined as:\n",
    "\n",
    "$$\\text{prox}_{\\gamma l_{\\mathbb{R^+}}}(y) = \\text{arg}\\underset{x \\in \\mathbb{R}}{\\text{ min }} \\left( \\gamma l_{\\mathbb{R^+}}(x) + \\frac{1}{2} \\|x-y\\|^2 \\right) = \\text{arg}\\underset{x \\in \\mathbb{R^+}}{\\text{ min }} \\left( \\gamma l_{\\mathbb{R^+}}(x) + \\frac{1}{2} \\|x-y\\|^2 \\right) =\\text{arg}\\underset{x \\in \\mathbb{R^+}}{\\text{ min }} \\frac{1}{2} \\|x-y\\|^2$$ \n",
    "\n",
    "where $l_{\\mathbb{R^+}}$ is defined in the lab sheet as being **null on $\\mathbb{R^+}$ and being $+\\infty$ on $\\mathbb{R_-^*}$, hence it is equivalent to consider the $\\text{arg min}$ onto $\\mathbb{R}$ or onto $\\mathbb{R^+}$**, hence the two last equalities.\n",
    "\n",
    "\n",
    "Hence, we can say that: $$ \\begin{align} \n",
    "                           \\forall y \\in \\mathbb{R^+}, \\text{prox}_{\\gamma l_{\\mathbb{R^+}}}(y) &= y \\text{ (*) }\\\\ \n",
    "                           \\forall y < 0, \\text{prox}_{\\gamma l_{\\mathbb{R^+}}}(y) &= 0 \\text{ (**) }\n",
    "                           \\end{align}$$\n",
    "          \n",
    "          \n",
    "<u>Justification</u>:\n",
    "\n",
    "\n",
    "* $\\text{ (*) }$: We consider $y \\in \\mathbb{R^+}$. We have that $ \\forall x \\in \\mathbb{R^+}, \\frac{1}{2} \\|x-y\\|^2 \\geqslant 0$. Here, $x$ can be equal to $y$ (since it belongs to $\\mathbb{R^+}$), so **the whole function is null at this point and this point only**, hence **minimal for $x=y$**. **So in this case, $\\text{prox}_{\\gamma l_{\\mathbb{R^+}}}(y) = y$**.\n",
    "\n",
    "\n",
    "* $\\text{ (**) }$: $x$ cannot be equal to $y$ in that case. This case is equivalent to **minimising the distance between $y$ and any point of $\\mathbb{R^+}$**, i.e. **minimising $\\|x-y\\|^2$ for all $x \\in \\mathbb{R^+}$**. **Since $y<0$, the closest point of $\\mathbb{R^+}$ is $0$, hence $\\text{prox}_{\\gamma l_{\\mathbb{R^+}}}(y) = 0$**.\n",
    "\n",
    "\n",
    "\n",
    "**Therefore, we can conclude that for all $\\gamma>0$, $\\text{prox}_{\\gamma l_{\\mathbb{R^+}}}$ is actually the projection onto $ \\mathbb{R^+} $** (as it is equal to the identity function on $\\mathbb{R^+}$ and the null function on $\\mathbb{R^*_-}$)."
   ]
  },
  {
   "cell_type": "markdown",
   "metadata": {},
   "source": [
    "### Question 3.5\n",
    "\n",
    "We use this result to code a projected gradient descent method with constant step $\\gamma$."
   ]
  },
  {
   "cell_type": "code",
   "execution_count": 9,
   "metadata": {},
   "outputs": [],
   "source": [
    "def projected_gradient_method(val_g, grad_g, W0, gamma, N):\n",
    "    \n",
    "    list_g = [val_g(W0)]\n",
    "    \n",
    "    for i in range(N):\n",
    "        \n",
    "        # gradient descent\n",
    "        W0 = W0 - gamma * grad_g(W0)\n",
    "        \n",
    "        # projection onto R+\n",
    "        W0 = W0 * (W0>=0) \n",
    "        \n",
    "        list_g.append(val_g(W0))\n",
    "        \n",
    "    return W0, list_g"
   ]
  },
  {
   "cell_type": "markdown",
   "metadata": {},
   "source": [
    "### Question 3.6"
   ]
  },
  {
   "cell_type": "code",
   "execution_count": 10,
   "metadata": {},
   "outputs": [
    {
     "name": "stdout",
     "output_type": "stream",
     "text": [
      "gamma =  3.455542973172828e-06\n",
      "The value of g(W0) after 100 iterations is: 867.6202599181838\n"
     ]
    }
   ],
   "source": [
    "L0 = np.linalg.norm(np.dot(np.transpose(H0),H0), 'fro') # Lispchitz constant\n",
    "gamma = 1/(L0)\n",
    "print(\"gamma = \", gamma)\n",
    "\n",
    "W0_final, list_g_finale = projected_gradient_method(g, gradg, W0, gamma, 100)\n",
    "print(\"The value of g(W0) after 100 iterations is:\", list_g_finale[-1])"
   ]
  },
  {
   "cell_type": "markdown",
   "metadata": {},
   "source": [
    "The value of $g(W_0)$ obtained means that **the distance between $M$ and $W_0 \\cdot H_0$ is still quite important after 100 iterations** of this algorithm of proximal gradient descent with constant step. This is mainly due to the value of gamma, which is very small (the order of magnitude is $10^{-6}$), so **the convergence of this algorithm is very slow** (the steps towards a local minimum are too small)."
   ]
  },
  {
   "cell_type": "markdown",
   "metadata": {},
   "source": [
    "## Part 4 - Algorithmic refinement for the problem with $H_0$ fixed"
   ]
  },
  {
   "cell_type": "markdown",
   "metadata": {},
   "source": [
    "### Question 4.1\n",
    "\n",
    "We modify the previous algorithm, **adding a line search to find the appropriate step size at each iteration**. We choose to add a Taylor-based line search, as defined in the lecture notes."
   ]
  },
  {
   "cell_type": "code",
   "execution_count": 11,
   "metadata": {},
   "outputs": [],
   "source": [
    "b = L0\n",
    "a = 0.5\n",
    "\n",
    "def taylor_line_search(val_g, grad_g, b, W0):\n",
    "    l = 0\n",
    "    grad = grad_g(W0)\n",
    "    while val_g(W0-(b*a**l)*grad) > val_g(W0)+np.trace(np.dot(np.transpose(grad),-(b*a**l)*grad))+1/(2*b*a**l)*np.linalg.norm((b*a**l)*grad, 'fro')**2:\n",
    "        l+=1\n",
    "    return (b*a**l)\n",
    "\n",
    "def projected_gradient_method_refined(val_g, grad_g, W0, N):\n",
    "    list_g = [val_g(W0)]\n",
    "    for k in range(N):\n",
    "        gamma_k = taylor_line_search(val_g, grad_g, b, W0)\n",
    "        W0 = W0 - gamma_k * grad_g(W0)\n",
    "        W0 = W0 * (W0>=0)\n",
    "        list_g.append(val_g(W0))\n",
    "    return W0, list_g"
   ]
  },
  {
   "cell_type": "markdown",
   "metadata": {},
   "source": [
    "### Question 4.2"
   ]
  },
  {
   "cell_type": "code",
   "execution_count": 14,
   "metadata": {},
   "outputs": [
    {
     "name": "stdout",
     "output_type": "stream",
     "text": [
      "The value of g(W0) after 100 iterations is: 483.8995981489996\n"
     ]
    }
   ],
   "source": [
    "W0_final, list_g_finale = projected_gradient_method_refined(g, gradg, W0, 100)\n",
    "print(\"The value of g(W0) after 100 iterations is:\", list_g_finale[-1])"
   ]
  },
  {
   "cell_type": "markdown",
   "metadata": {},
   "source": [
    "For the **same number of iterations, this method has sharpy enhanced the convergence speed**, as we obtain almost half the value of the previous distance. This is coherent with the fact that we adapt the step size at each iteration, allowing us to go further that with a constant step of $\\gamma = \\frac{1}{L_0}$. However, it is **far longer to run** than the previous method due to the fact that we need to calculate the $\\gamma_k$ at each iteration with the line search."
   ]
  },
  {
   "cell_type": "markdown",
   "metadata": {},
   "source": [
    "## Part 5 - Resolution of the full problem"
   ]
  },
  {
   "cell_type": "markdown",
   "metadata": {},
   "source": [
    "### Question 5.1\n",
    "\n",
    "We start by redefining the objective function $f$ and its gradient, as both parameters $W$ and $H$ now may vary."
   ]
  },
  {
   "cell_type": "code",
   "execution_count": 15,
   "metadata": {},
   "outputs": [],
   "source": [
    "def g_problem(W, H):\n",
    "    return (1/(2*n*p))*np.linalg.norm(M-np.dot(W,H), 'fro')**2\n",
    "\n",
    "def gradg_problem(W, H):\n",
    "    return ((-1/(n*p))*np.dot((M-np.dot(W,H)),H.T),(-1/(n*p))*np.dot(W.T,(M-np.dot(W,H))))"
   ]
  },
  {
   "cell_type": "markdown",
   "metadata": {},
   "source": [
    "Then, we adapt the projected gradient method with line search for the variation of both $W$ and $H$. Especially, **we do not specify any given Lispchitz constant $L_0$ but we adapt it at each iteration for the line search**."
   ]
  },
  {
   "cell_type": "code",
   "execution_count": 16,
   "metadata": {},
   "outputs": [],
   "source": [
    "def taylor_line_search_problem(val_g, grad_g, b, W0, H0):\n",
    "    l = 0\n",
    "    grad = grad_g(W0, H0)\n",
    "    while val_g(W0-(b*a**l)*grad[0], H0-(b*a**l)*grad[1]) > val_g(W0, H0)+np.trace(np.dot(grad[0].T,-(b*a**l)*grad[0]))+np.trace(np.dot(grad[1].T,-(b*a**l)*grad[1]))+1/(2*b*a**l)*np.linalg.norm((b*a**l)*grad[0], 'fro')**2+1/(2*b*a**l)*np.linalg.norm((b*a**l)*grad[1], 'fro')**2:\n",
    "        l+=1\n",
    "    return (b*a**l)\n",
    "\n",
    "def projected_gradient_method_problem(val_g, grad_g, W0, H0, N):\n",
    "    list_g = [val_g(W0,H0)]\n",
    "    for k in range(N):\n",
    "        b = np.linalg.norm(np.dot(np.transpose(H0),H0), 'fro')\n",
    "        gamma_k = taylor_line_search_problem(val_g, grad_g, b, W0, H0)\n",
    "        grad = grad_g(W0, H0)\n",
    "        W0 = W0 - gamma_k * grad[0]\n",
    "        W0 = W0 * (W0>=0)\n",
    "        H0 = H0 - gamma_k * grad[1]\n",
    "        H0 = H0 * (H0>=0)\n",
    "        list_g.append(val_g(W0,H0))\n",
    "    return W0, H0, list_g"
   ]
  },
  {
   "cell_type": "markdown",
   "metadata": {},
   "source": [
    "We then test the method we have just implemented to solve the initial problem."
   ]
  },
  {
   "cell_type": "code",
   "execution_count": 17,
   "metadata": {},
   "outputs": [
    {
     "name": "stdout",
     "output_type": "stream",
     "text": [
      "The value of g(W,H) after 100 iterations is: 224.3783388155127\n",
      " \n",
      "This method took 507.4357554912567 seconds to run\n"
     ]
    }
   ],
   "source": [
    "t1 = time()\n",
    "W, H, list_g_problem = projected_gradient_method_problem(g_problem, gradg_problem, W0, H0, 100)\n",
    "t2 = time()\n",
    "print(\"The value of g(W,H) after 100 iterations is:\", list_g_problem[-1])\n",
    "print(\" \")\n",
    "print(\"This method took\", t2 - t1, \"seconds to run\")"
   ]
  },
  {
   "cell_type": "markdown",
   "metadata": {},
   "source": [
    "We do not go further than 100 iterations as this already takes more than 8 minutes to run."
   ]
  },
  {
   "cell_type": "markdown",
   "metadata": {},
   "source": [
    "### Question 5.2\n",
    "\n",
    "By definition of $H_t$, we have $\\|M-W_tH_{t-1}\\|^2\\leqslant \\|M-W_{t-1}H_{t-1}\\|^2$.\n",
    "\n",
    "By definition of $W_t$, we have $\\|M-W_tH_t\\|^2\\leqslant \\|M-W_tH_{t-1}\\|^2$.\n",
    "\n",
    "Hence, $\\|M-W_tH_t\\|^2\\leqslant \\|M-W_{t-1}H_{t-1}\\|^2$ by transitivity of the inequalities, so **the objective function decreases at each iteration** of the algorithm of alternate minimizations. \n",
    "\n",
    "The sequence $\\left(\\|M-W_tH_t\\|^2\\right)_{t \\in \\mathbb{N}}$ is **positive and decreasing, hence it converges (and so does the algorithm)**."
   ]
  },
  {
   "cell_type": "markdown",
   "metadata": {},
   "source": [
    "### Question 5.3"
   ]
  },
  {
   "cell_type": "markdown",
   "metadata": {},
   "source": [
    "#### Alternate minimizations method\n",
    "\n",
    "We implement the alternate minimizations method with a constant chosen step $\\gamma$ set by the user (method used to find the $\\text{arg min}$).\n",
    "\n",
    "We start by implementing the appropriate elements: the objective function for $H_0$ fixed, for $W_0$ fixed, their gradients, the projected gradient method for $H_0$ constant and the projected gradient method for $W_0$ constant, respectively.\n",
    "\n",
    "We will use these functions so as to determine the new values of $W_t$ and $H_t$."
   ]
  },
  {
   "cell_type": "code",
   "execution_count": 18,
   "metadata": {},
   "outputs": [],
   "source": [
    "def g_W(W, H0):\n",
    "    return g_problem(W, H0)\n",
    "\n",
    "def g_H(W0, H):\n",
    "    return g_problem(W0, H)\n",
    "\n",
    "def gradg_W(W, H0):\n",
    "    return (-1/(n*p))*np.dot((M-np.dot(W,H0)),H0.T)\n",
    "\n",
    "def gradg_H(W0, H):\n",
    "    return (-1/(n*p))*np.dot(W0.T,(M-np.dot(W0,H)))\n",
    "\n",
    "def projected_gradient_method_W(val_g, grad_g, W0, H0, gamma, N):\n",
    "    list_g = [val_g(W0, H0)]\n",
    "    for k in range(N):\n",
    "        W0 = W0 - gamma * grad_g(W0, H0)\n",
    "        W0 = W0 * (W0>=0)\n",
    "        list_g.append(val_g(W0, H0))\n",
    "    return W0, list_g\n",
    "\n",
    "def projected_gradient_method_H(val_g, grad_g, W0, H0, gamma, N):\n",
    "    list_g = [val_g(W0, H0)]\n",
    "    for k in range(N):\n",
    "        H0 = H0 - gamma * grad_g(W0, H0)\n",
    "        H0 = H0 * (H0>=0)\n",
    "        list_g.append(val_g(W0, H0))\n",
    "    return H0, list_g"
   ]
  },
  {
   "cell_type": "markdown",
   "metadata": {},
   "source": [
    "We then use all these functions to implement the algorithm as suggested in the lab sheet, and try it out."
   ]
  },
  {
   "cell_type": "code",
   "execution_count": 19,
   "metadata": {},
   "outputs": [
    {
     "name": "stdout",
     "output_type": "stream",
     "text": [
      "For 1000 iterations of the alternate minimizations method with a constant step of gamma = 1\n",
      "we get for the objective function : 274.26563346822013\n",
      " \n",
      "This method took 146.73836207389832 seconds to run\n"
     ]
    }
   ],
   "source": [
    "def alternate_minimizations_constant_step(val_g_W, grad_g_W, val_g_H, grad_g_H, W0, H0, gamma, N):\n",
    "    for t in range(N):\n",
    "        W0 = projected_gradient_method_W(val_g_W, grad_g_W, W0, H0, gamma, 1)[0]\n",
    "        H0 = projected_gradient_method_H(val_g_H, grad_g_H, W0, H0, gamma, 1)[0]\n",
    "    return (W0, H0)\n",
    "\n",
    "# Trying out the algorithm for 1000 iterations\n",
    "\n",
    "gamma = 1 # step size chosen by the user\n",
    "t3 = time()\n",
    "W, H = alternate_minimizations_constant_step(g_W, gradg_W, g_H, gradg_H, W0, H0, gamma, 1000)\n",
    "t4 = time()\n",
    "\n",
    "print(\"For 1000 iterations of the alternate minimizations method with a constant step of gamma =\", gamma)\n",
    "print(\"we get for the objective function :\",  g_problem(W, H))\n",
    "print(\" \")\n",
    "print(\"This method took\", t4 - t3, \"seconds to run\" )"
   ]
  },
  {
   "cell_type": "markdown",
   "metadata": {},
   "source": [
    "### Question 5.4\n",
    "\n",
    "<u>Results in terms of running time as a function of the number of iterations</u>:\n",
    "* The projected gradient algorithm took **507 seconds (about 8 and a half minutes) to run 100 iterations**.\n",
    "* The algorithm of alternate minimizations method with constant step was **the fastest, as it took 146 seconds (about 2 and a half minutes) to run 1000 iterations**.\n",
    "\n",
    "<u>Results in terms of results for the objective function</u>:\n",
    "* **The projected gradient algorithm gave the best result**, with an **objective function of value $224$ after 100 iterations**.\n",
    "* The algorithm of alternate minimizations method with constant step gave **a result of $274$ after 1000 iterations**.\n",
    "\n",
    "Therefore, considering both algorithms, **the best compromise seems to be the use of the alternate minimizations method**."
   ]
  },
  {
   "cell_type": "markdown",
   "metadata": {},
   "source": [
    "### Question 5.5\n",
    "\n",
    "<u> We could choose **another stopping criterion** such as for example </u>:\n",
    "\n",
    "* the fact that $f(W,H) = \\frac{1}{2np} \\|M-WH\\|_F^2 < \\epsilon$ with $\\epsilon$ defined by the user, which may never stop if the $\\epsilon$ chosen is too small\n",
    "\n",
    "\n",
    "* the fact that between two iterations of any of the algorithms, **the relative variation of the objective function should be smaller than $\\epsilon'$** (same as criterion #1 but considering a relative variation) : \n",
    "\n",
    "$$\\frac{\\|f(W_t,H_t) - f(W_{t-1},H_{t-1})\\|^2_F}{\\|f(W_{t-1},H_{t-1})\\|_F^2}  <\\epsilon'$$\n",
    "\n",
    "\n",
    "* the fact that between two iterations of any of the algorithms, **the relative variation of the matrix computed** (for example $H_t$) **should be smaller than $\\epsilon''$** : \n",
    "\n",
    "$$\\frac{\\|H_t - H_{t-1}\\|^2_F}{\\|H_{t-1}\\|_F^2}  <\\epsilon''$$\n",
    "\n",
    "* similar criteria with absolute variations\n",
    "\n",
    "$$\\text{}$$\n",
    "\n",
    "The difficulty with absolute variations (such as criterion number 1) is to find an appropriate threshold. It appears that the relative variations may suit these algorithms better."
   ]
  }
 ],
 "metadata": {
  "kernelspec": {
   "display_name": "Python 3",
   "language": "python",
   "name": "python3"
  },
  "language_info": {
   "codemirror_mode": {
    "name": "ipython",
    "version": 3
   },
   "file_extension": ".py",
   "mimetype": "text/x-python",
   "name": "python",
   "nbconvert_exporter": "python",
   "pygments_lexer": "ipython3",
   "version": "3.7.3"
  }
 },
 "nbformat": 4,
 "nbformat_minor": 2
}
