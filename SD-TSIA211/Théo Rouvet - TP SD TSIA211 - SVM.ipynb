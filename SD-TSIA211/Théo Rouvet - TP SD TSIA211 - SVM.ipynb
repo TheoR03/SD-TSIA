{
 "cells": [
  {
   "cell_type": "markdown",
   "metadata": {},
   "source": [
    "# TP Séparateurs à vaste marge - SD-TSIA211\n",
    "\n",
    "Ce TP a été réalisé par Théo Rouvet."
   ]
  },
  {
   "cell_type": "markdown",
   "metadata": {},
   "source": [
    "## 1 - Données\n",
    "\n",
    "On commence par importer les données, je redirige pour cela le répertoire courant vers le dossier du TP dans ma machine."
   ]
  },
  {
   "cell_type": "code",
   "execution_count": 1,
   "metadata": {},
   "outputs": [],
   "source": [
    "import os\n",
    "os.chdir(r\"C:\\Users\\theor\\OneDrive\\Documents\\Travaux\\Télécom ParisTech ~ 2A\\TSIA\\SD-TSIA211\\TP Séparateurs à vaste marge\")\n",
    "\n",
    "import matplotlib.pyplot as plt\n",
    "import numpy as np\n",
    "import scipy.optimize\n",
    "import scipy.sparse\n",
    "import scipy.sparse.linalg\n",
    "from time import time"
   ]
  },
  {
   "cell_type": "markdown",
   "metadata": {},
   "source": [
    "On récupère la fonction écrite dans le fichier annexe, qui va nous permettre de charger la base de données du dossier dans le notebook. On regarde rapidement ce que contiennent la matrice $X$ et le vecteur $y$, pour vérifier la cohérence avec ce qui est indiqué."
   ]
  },
  {
   "cell_type": "code",
   "execution_count": 2,
   "metadata": {},
   "outputs": [
    {
     "name": "stdout",
     "output_type": "stream",
     "text": [
      "Caractéristiques: [ 1.09706398 -2.07333501  1.26993369  0.9843749   1.56846633  3.28351467\n",
      "  2.65287398  2.53247522  2.21751501  2.25574689  2.48973393 -0.56526506\n",
      "  2.83303087  2.48757756 -0.21400165  1.31686157  0.72402616  0.66081994\n",
      "  1.14875667  0.90708308  1.88668963 -1.35929347  2.30360062  2.00123749\n",
      "  1.30768627  2.61666502  2.10952635  2.29607613  2.75062224  1.93701461]\n",
      "\n",
      "Classes: [ 1.  1.  1.  1.  1.  1.  1.  1.  1.  1.  1.  1.  1.  1.  1.  1.  1.  1.\n",
      "  1. -1. -1. -1.  1.  1.  1.  1.  1.  1.  1.  1.  1.  1.  1.  1.  1.  1.\n",
      "  1. -1.  1.  1.]\n"
     ]
    }
   ],
   "source": [
    "def load_breastcancer(filename):\n",
    "    \"\"\"\n",
    "    Cette fonction lit le fichier filename, par exemple\n",
    "    filename = 'wdbc_M1_B0.data'\n",
    "    Elle retourne \n",
    "    X : une matrice de caracteristiques\n",
    "    y : un vecteur des classes tel que si y[i] = 1, la tumeur est maligne\n",
    "        et si y[i] = -1, la tumeur est benigne\n",
    "\n",
    "    Pour plus d'infos sur la base de donnees,\n",
    "    https://archive.ics.uci.edu/ml/datasets/Breast+Cancer+Wisconsin+%28Prognostic%29\n",
    "    \"\"\"\n",
    "\n",
    "    data = np.loadtxt(filename, delimiter=',')\n",
    "\n",
    "    # la colonne 0 ne nous interesse pas ici\n",
    "    y = data[:, 1] * 2 - 1\n",
    "    X = data[:, 2:]\n",
    "\n",
    "    # Standardisation de la matrice\n",
    "    X = X - np.mean(X, axis=0)\n",
    "    X = X / np.std(X, axis=0)\n",
    "\n",
    "    return X, y\n",
    "\n",
    "X, y = load_breastcancer('./wdbc_M1_B0.data')\n",
    "print(\"Caractéristiques:\", X[0])\n",
    "print()\n",
    "print(\"Classes:\", y[:40])"
   ]
  },
  {
   "cell_type": "markdown",
   "metadata": {},
   "source": [
    "## 2 - Méthode du sous gradient"
   ]
  },
  {
   "cell_type": "markdown",
   "metadata": {},
   "source": [
    "### Question 2.1\n",
    "\n",
    "On note : \n",
    "\n",
    "$$\\begin{align}\n",
    "A(v, a, \\xi) &=  \\frac{1}{2} \\sum_{j=1}^m v_j^2 + c\\sum_{i=1}^n \\xi_i \\\\\n",
    "B(v,a) &= \\frac{1}{2} \\sum_{j=1}^m v_j^2 + c\\sum_{i=1}^n max(0, 1-y_i(x_i^Tv + a)) \n",
    "\\end{align}$$\n",
    "\n",
    "avec $c=1$.\n",
    "\n",
    "* D'après les contraintes du problème $ (1)\n",
    "$ : $ \\forall i \\in \\{1,...,n\\}, \\xi_i \\geqslant \\text{max}(0, 1-y_i(x_i^Tv + a))  $. Ainsi, on obtient par calcul rapide que $ A(v,a, \\xi) \\geqslant B(v,a) $ (les termes sommés étant positifs), d'où $ \\underset{v\\in \\mathbb{R}^m, a \\in \\mathbb{R}, \\xi \\in \\mathbb{R}^n}{\\text{min}} A(v,a, \\xi)  \\geqslant \\underset{v\\in \\mathbb{R}^m, a \\in \\mathbb{R}}{\\text{min}} B(v,a) $.\n",
    "\n",
    "\n",
    "* Pour tout $(a_0, v_0)$ fixé, en  prenant $ \\forall i \\in \\{1,...,n\\}, \\xi_i^* = \\text{max} (0, 1-y_i(x_i^Tv_0 + a_0)) $ , on a directement $ A(v_0,a_0,\\xi^*) = B(v_0,a_0) $ d'où $ \\underset{v\\in \\mathbb{R}^m, a \\in \\mathbb{R}, \\xi \\in \\mathbb{R}^n}{\\text{min}} A(v,a, \\xi)  \\leqslant A(v_0,a_0,\\xi^*) = B(v_0,a_0) $, ce qui entraîne $\\underset{v\\in \\mathbb{R}^m, a \\in \\mathbb{R}, \\xi \\in \\mathbb{R}^n}{\\text{min}} A(v,a, \\xi)  \\leqslant \\underset{v'\\in \\mathbb{R}^m, a' \\in \\mathbb{R}}{\\text{min}} B(v',a')$ par minimisation du terme de droite.\n",
    "\n",
    "**Ces deux points prouvent la double inégalité, on peut donc en déduire que** : \n",
    "\n",
    "$$ \\underset{v\\in \\mathbb{R}^m, a \\in \\mathbb{R}, \\xi \\in \\mathbb{R}^n}{\\text{min}} A(v,a, \\xi)  = \\underset{v\\in \\mathbb{R}^m, a \\in \\mathbb{R}}{\\text{min}} B(v,a) $$\n",
    "\n",
    "De plus, la double inégalité a montré qu'on pouvait fabriquer l'optimum de l'un à partir de celui de l'autre facilement (le lien étant entre les contraintes du problème $(1)$ et l'expression de la seconde somme du problème $(2)$. Ceci conclut donc sur **l'équivalence des deux problèmes considérés**."
   ]
  },
  {
   "cell_type": "markdown",
   "metadata": {},
   "source": [
    "### Question 2.2"
   ]
  },
  {
   "cell_type": "markdown",
   "metadata": {},
   "source": [
    "On trace la fonction $h$, et on en déduit graphiquement les pentes possibles."
   ]
  },
  {
   "cell_type": "code",
   "execution_count": 3,
   "metadata": {},
   "outputs": [
    {
     "data": {
      "image/png": "[encoded data removed]",
      "text/plain": [
       "<Figure size 432x288 with 1 Axes>"
      ]
     },
     "metadata": {
      "needs_background": "light"
     },
     "output_type": "display_data"
    }
   ],
   "source": [
    "def h(z):\n",
    "    return max(0,1-z)\n",
    "\n",
    "z = np.arange(-5, 5, 0.1)\n",
    "hValues = np.fmax(0, 1-z)\n",
    "\n",
    "plt.plot(z, -1 * z +1, linewidth = 0.6, color = 'green')\n",
    "plt.plot(z, -0.25* z + 0.25, linewidth = 0.6, color = 'red')\n",
    "plt.plot(z, -0.5* z + 0.5, linewidth = 0.6, color = 'red')\n",
    "plt.plot(z, -0.75* z + 0.75, linewidth = 0.6, color = 'red')\n",
    "plt.plot(z, -0.9* z + 0.9, linewidth = 0.6, color = 'red', label = \"pentes admissibles\")\n",
    "plt.hlines(0, -5,5, linewidth = 0.6, color = 'green', label = \"cas limites\")\n",
    "\n",
    "plt.plot(z, hValues, label = 'h(z)')\n",
    "plt.title(\"Sous-différentielles de $h$\")\n",
    "plt.legend()\n",
    "plt.show()"
   ]
  },
  {
   "cell_type": "markdown",
   "metadata": {},
   "source": [
    "On définit $h : z \\mapsto \\text{max}(0, 1-z)$ sur $\\mathbb{R}$.\n",
    "\n",
    "* $ \\forall z \\in ]- \\infty, 1[, h(z) = 1-z $ donc **la fonction $h$ est différentiable** sur cet intervalle. La sous-différentielle de $h$ vaut donc $\\{-1\\}$ ici, i.e. la dérivée de $h$ (car elle est différentiable ici).\n",
    "\n",
    "\n",
    "* De même, dans l'intervalle $ ]1, +\\infty[ $, la sous-différentielle de la fonction $ h $ vaut $\\{0\\}$.\n",
    "\n",
    "\n",
    "* En $z = 1 $, **les valeurs admissibles de sous-gradient sont les pentes entre $ -1 $ et $ 0 $**, donc la sous-différentielle vaut $ [-1,0] $. Les droites rouges représentent des pentes admissibles, les droites vertes sont les pentes extrêmes admissibles."
   ]
  },
  {
   "cell_type": "markdown",
   "metadata": {},
   "source": [
    "### Question 2.3\n",
    "\n",
    "On définit $f(v, a) = \\frac{1}{2} \\sum_{j=1}^m v_j^2 + c \\sum_{i=1}^n \\text{max}(0, y_i(x_i^Tv+a))$. On cherche à l'écrire sous la forme $f(v, a) = N(v,a) + cH(M(v,a)) $ avec $M$ une application linéaire et $N$ et $H$ deux fonctions séparables.\n",
    "\n",
    "On pose tout d'abord $$ N(v,a) =  \\sum_{j=1}^m \\frac{v_j^2}{2} = \\sum_{j=1}^m n_j(v_j)$$ dont on vérifie immédiatement la séparabilité.\n",
    "\n",
    "De plus, on pose \n",
    "$$ \\begin{align}\n",
    "H(Z) &= \\sum_{i=1}^n max(0, 1-z_i) \\\\\n",
    "\\\\\n",
    "M &= \\left( \\begin{array}{c}\n",
    "y_1x_1^T ~~~ y_1\\\\\n",
    "\\vdots \\\\\n",
    "y_ix_i^T ~~~ y_i  \\\\\n",
    "\\vdots \\\\\n",
    "y_nx_n^T ~~~ y_n\n",
    "\\end{array} \\right) \\\\\n",
    "\\\\\n",
    "\\text{ d'où }M(v, a) &= \\left( y_0(x_0^Tv + a), ..., y_n(x_n^Tv + a)\\right) \\text{ avec } 1_n = (1,...,1)^T\n",
    "\\end{align}$$\n",
    "\n",
    "\n",
    "Il est également immédiat que $M$ est linéaire et que $H$ est séparable. \n",
    "\n",
    "En outre, on vérifie bien que $f(v, a) = N(v,a) + cH(M(v,a)) $. Ainsi, les fonctions proposées conviennent.\n",
    "\n",
    "Nous vérifions ainsi les hypothèses de la propriété 2.4.2, donc :\n",
    "\n",
    "$$ \\partial f(v,a) = \\partial N(v,a) + cM^T\\partial H(M(v,a)) $$\n",
    "\n",
    "En différentiant $N$, on obtient que : $$\\partial N(v,a) = \\left( \\begin{array}{c}\n",
    "v\\\\\n",
    "0\n",
    "\\end{array} \\right) $$\n",
    "\n",
    "On peut également utiliser le fait que $H$ soit séparable : $$ \\partial H(x) = \\partial h(x_1) \\times ... \\times \\partial h(x_n)$$"
   ]
  },
  {
   "cell_type": "markdown",
   "metadata": {},
   "source": [
    "### Question 2.4\n",
    "\n",
    "On commence par coder toutes les fonctions auxiliaires que l'on a utilisées pour définir $f$."
   ]
  },
  {
   "cell_type": "code",
   "execution_count": 4,
   "metadata": {},
   "outputs": [],
   "source": [
    "X_bis = np.c_[X,np.ones((X.shape[0],1))]\n",
    "n,m = X_bis.shape\n",
    "# X avec une colonne de 1, prenant en compte l'intercept\n",
    "\n",
    "def N(nu,a):\n",
    "    tab = np.array([0.5*nu_i*nu_i for nu_i in nu])\n",
    "    return np.sum(tab)\n",
    "\n",
    "def H(Z):\n",
    "    tab = np.array([max(0,1-z) for z in Z])\n",
    "    return np.sum(tab)\n",
    "\n",
    "M1 = np.array([y[i]*X_bis[i,:] for i in range(n)])\n",
    "\n",
    "def M(nu,a):\n",
    "    return np.dot(M1,((np.append(nu,a))))"
   ]
  },
  {
   "cell_type": "markdown",
   "metadata": {},
   "source": [
    "On utilise ensuite la relation de la question précédente afin de coder une fonction qui renvoie la sous-différentielle de $f$ en tout point."
   ]
  },
  {
   "cell_type": "code",
   "execution_count": 5,
   "metadata": {},
   "outputs": [],
   "source": [
    "def subdiff_f(nu, a, c = 1):\n",
    "    \n",
    "    # define f\n",
    "    f = N(nu,a) + c*H(M(nu,a))\n",
    "    \n",
    "    # subgrad of f\n",
    "    subgrad_h = -(M(nu,a)<=1).astype(int)\n",
    "    sub_grad_f = np.append(nu,0) + c*M1.T@subgrad_h\n",
    "    \n",
    "    return f, sub_grad_f"
   ]
  },
  {
   "cell_type": "code",
   "execution_count": 6,
   "metadata": {},
   "outputs": [
    {
     "name": "stdout",
     "output_type": "stream",
     "text": [
      "805.9216593522436\n",
      "[-56.40540055 -15.89543571 -52.1917259  -53.28963475  42.5570023\n",
      "  37.14060713   9.9615454  -13.69296926  37.47738396  93.76756606\n",
      " -17.89685698  43.78975209 -12.51863391 -27.97924058  77.70463015\n",
      "  81.62584304  70.03113097  60.42013469  52.11666728  99.72326511\n",
      " -58.42234145 -24.97106338 -53.15719928 -53.75186403  20.28446251\n",
      "  17.94795003  10.60158241 -13.58739269  -6.89787984  50.42977457\n",
      "  74.        ]\n"
     ]
    }
   ],
   "source": [
    "value, subgrad_value = subdiff_f(np.ones((m-1,1)), 5)\n",
    "print(value)\n",
    "print(subgrad_value)"
   ]
  },
  {
   "cell_type": "markdown",
   "metadata": {},
   "source": [
    "### Question 2.5\n",
    "\n",
    "On applique la méthode du sous-gradient, en se basant sur l'énoncé et la question précédente, et on prend comme conditions initiales $(v_0,a_0) = 0$ avant d'exécuter l'algorithme."
   ]
  },
  {
   "cell_type": "code",
   "execution_count": 7,
   "metadata": {},
   "outputs": [],
   "source": [
    "def subgradient_method(nu_0,a_0,k):\n",
    "    \n",
    "    nu_i = nu_0[:,0]\n",
    "    a_i = a_0\n",
    "    \n",
    "    for i in range(k):\n",
    "        \n",
    "        # on choisit un élément de la sous-différentielle\n",
    "        result, subgrad = subdiff_f(nu_i,a_i)\n",
    "        \n",
    "        # on prend le nouveau point avec le pas 1/(i+1) comme indiqué\n",
    "        nu_i = nu_i[:m-1] - subgrad[:m-1]/(i+1)\n",
    "        a_i = a_i - subgrad[m-1]/(i+1)\n",
    "        \n",
    "    return result"
   ]
  },
  {
   "cell_type": "code",
   "execution_count": 8,
   "metadata": {},
   "outputs": [
    {
     "name": "stdout",
     "output_type": "stream",
     "text": [
      "Valeur : 26.570582119490396\n",
      "Temps d'exécution : 6.529015779495239\n"
     ]
    }
   ],
   "source": [
    "debut = time()\n",
    "print(\"Valeur :\", subgradient_method(np.zeros((m-1,1)), 0, 10**4))\n",
    "print(\"Temps d'exécution :\", time()-debut)"
   ]
  },
  {
   "cell_type": "code",
   "execution_count": 9,
   "metadata": {},
   "outputs": [
    {
     "data": {
      "image/png": "[encoded data removed]",
      "text/plain": [
       "<Figure size 432x288 with 1 Axes>"
      ]
     },
     "metadata": {
      "needs_background": "light"
     },
     "output_type": "display_data"
    }
   ],
   "source": [
    "ordonn = np.array([subgradient_method(np.zeros((m-1,1)), 0, k) for k in range(10,10**2)])\n",
    "abscis = np.arange(10, 10**2, 1)\n",
    "\n",
    "plt.scatter(abscis, ordonn)\n",
    "plt.title(\"Valeur de la fonction selon le nombre d'itérations\")\n",
    "plt.show()"
   ]
  },
  {
   "cell_type": "markdown",
   "metadata": {},
   "source": [
    "L'algorithme prend des valeurs très grandes tout d'abord puis décroit rapidement. On peut noter que l'exécution est rapide pour $10~000$ itérations, et que la valeur obtenue change peu passé ce seuil (moins d'un pourcent d'écart relatif lors de l'exécution avec $100~000$ itérations). "
   ]
  },
  {
   "cell_type": "markdown",
   "metadata": {},
   "source": [
    "## 3 - Méthode du sous-gradient stochastique"
   ]
  },
  {
   "cell_type": "markdown",
   "metadata": {},
   "source": [
    "### Question 3.1\n",
    "\n",
    "On a $I \\sim U(\\{1,...,n\\})$. On peut donc calculer l'espérance en utilisant le théorème de transfert.\n",
    "\n",
    "On a tout d'abord, par définition de l'espérance et de $I$ : \n",
    "$$ \\mathbb{E}[f_I(v,a)] = \\sum\\limits_{i=1}^n P(I=i)f_i(v,a) = \\frac{1}{n}\\sum\\limits_{i=1}^n f_i(v,a) $$ \n",
    "\n",
    "On a ensuite, en utilisant la formule de $f_i$ donnée : \n",
    "$$ \\mathbb{E}[f_I(v,a)] = \\frac{1}{2}\\sum\\limits_{i=1}^m v_j^2 +\\frac{1}{n}cn\\sum\\limits_{i=1}^n max(0,1 - y_i(x_i^Tv+a)) $$\n",
    "\n",
    "D'où finalement : $$\\mathbb{E}[f_I(v,a)] = f(v,a) $$"
   ]
  },
  {
   "cell_type": "markdown",
   "metadata": {},
   "source": [
    "### Question 3.2\n",
    "\n",
    "On peut poser $M_i = \\left( \\begin{array}{c}\n",
    "0\\\\\n",
    "\\vdots \\\\\n",
    "(y_ix_i^T ~~~ y_i)  \\\\\n",
    "\\vdots \\\\\n",
    "0\n",
    "\\end{array} \\right)$. \n",
    "\n",
    "\n",
    "On utilise $M_i$ à la place de $M$ et $c*n$ à la place de $c$ dans la preuve de la formule du sous-gradient (de la partie précédente). \n",
    "\n",
    "On a donc :\n",
    "$$ \\partial f_i(v,a) =  \\left( \\begin{array}{c}\n",
    "v\\\\\n",
    "0\n",
    "\\end{array} \\right)  + cnM_i^T \\partial H(M_i\\left( \\begin{array}{c}\n",
    "v\\\\\n",
    "a\n",
    "\\end{array} \\right)) \n",
    "= \\left( \\begin{array}{c}\n",
    "v\\\\\n",
    "0\n",
    "\\end{array} \\right)  + cnM_i^T \\partial H\\left( \\begin{array}{c}\n",
    "0\\\\\n",
    "\\vdots \\\\\n",
    "(y_ix_i^Tv + y_ia)  \\\\\n",
    "\\vdots \\\\\n",
    "0\n",
    "\\end{array} \\right)\n",
    "=\n",
    "\\left( \\begin{array}{c}\n",
    "v\\\\\n",
    "0\n",
    "\\end{array} \\right)  + cnM_i^T \\left( \\begin{array}{c}\n",
    "-1\\\\\n",
    "\\vdots \\\\\n",
    "\\partial h(y_ix_i^Tv + y_ia)  \\\\\n",
    "\\vdots \\\\\n",
    "-1\n",
    "\\end{array} \\right) $$\n",
    "\n",
    "Ainsi, on obtient que :\n",
    "$$\n",
    "\\partial f_i(v,a)  =\n",
    "\\left( \\begin{array}{c}\n",
    "v\\\\\n",
    "0\n",
    "\\end{array} \\right)  + cny_i \\partial h(y_ix_i^Tv + y_ia) \\left( \\begin{array}{c}\n",
    "x_i\\\\\n",
    "1\n",
    "\\end{array} \\right)\n",
    "$$"
   ]
  },
  {
   "cell_type": "markdown",
   "metadata": {},
   "source": [
    "### Question 3.3\n",
    "\n",
    "Pour coder cet algorithme, nous allons tirer à chaque itération $k$ un entier $i_k$ et prendre $x_{k+1} = x_k - \\gamma_k g_k$ où $g_k \\in \\partial f_{i_k}(x_k)$.\n",
    "On fixe le pas à $1/K ^{1/2}$ où $K$ est nombre d'itérations, comme suggéré dans le poly.\n",
    "\n",
    "Cette méthode est donc similaire à l'approche de la partie précédente, avec un côté aléatoire dans le choix de $f_i$."
   ]
  },
  {
   "cell_type": "code",
   "execution_count": 10,
   "metadata": {},
   "outputs": [],
   "source": [
    "from random import randint\n",
    "\n",
    "\n",
    "def subgrad_f_i(v,a,i):\n",
    "    \n",
    "    subgrad_h = -(y[i]*(X[i,:]@v + a)<=1).astype(int)\n",
    "    \n",
    "    subgrad_f_i = np.append(v,0) + n*y[i]*subgrad_h*np.append(X[i,:],1)\n",
    "    f_i = v.T@v/2 + n * h(y[i]*(X[i,:]@v + a))\n",
    "    \n",
    "    return f_i, subgrad_f_i\n",
    "\n",
    "def stochastic_subgradient_method(nu_0, a_0, K):\n",
    "    nu_k = nu_0[:,0]\n",
    "    a_k = a_0\n",
    "    \n",
    "    b = 6*10**(-4) # on choisit empiriquement une constante\n",
    "    step = b/np.sqrt(K)\n",
    "    total_step = 0\n",
    "    \n",
    "    weighted_value_nu = 0\n",
    "    weighted_value_a = 0\n",
    "    \n",
    "    for k in range(K):\n",
    "        \n",
    "        # choix aléatoire de i dans {1,...,n}\n",
    "        i = randint(0,n-1)\n",
    "        result, sub = subgrad_f_i(nu_k,a_k,i)\n",
    "        \n",
    "        total_step += step\n",
    "        \n",
    "        weighted_value_nu += nu_k*step\n",
    "        weighted_value_a += a_k*step\n",
    "        \n",
    "        nu_k = nu_k[:m-1] - sub[:m-1]*step\n",
    "        a_k = a_k - sub[-1]*step\n",
    "    \n",
    "    f_value,_ = subdiff_f(weighted_value_nu/total_step , weighted_value_a/total_step)\n",
    "\n",
    "    return f_value"
   ]
  },
  {
   "cell_type": "markdown",
   "metadata": {},
   "source": [
    "On effectue tout d'abord le test avec $10~000$ itérations comme précédemment."
   ]
  },
  {
   "cell_type": "code",
   "execution_count": 11,
   "metadata": {},
   "outputs": [
    {
     "name": "stdout",
     "output_type": "stream",
     "text": [
      "Valeur : 36.24984734250739\n",
      "Temps d'exécution : 0.29809093475341797\n"
     ]
    }
   ],
   "source": [
    "debut = time()\n",
    "print(\"Valeur :\", stochastic_subgradient_method(np.zeros((m-1,1)), 0,10**4))\n",
    "print(\"Temps d'exécution :\", time()-debut)"
   ]
  },
  {
   "cell_type": "markdown",
   "metadata": {},
   "source": [
    "Comme la méthode est très rapide, on peut augmenter le nombre d'itérations :"
   ]
  },
  {
   "cell_type": "code",
   "execution_count": 12,
   "metadata": {},
   "outputs": [
    {
     "name": "stdout",
     "output_type": "stream",
     "text": [
      "Valeur : 28.84140332580188\n",
      "Temps d'exécution : 14.573121070861816\n"
     ]
    }
   ],
   "source": [
    "debut = time()\n",
    "print(\"Valeur :\", stochastic_subgradient_method(np.zeros((m-1,1)), 0,5*10**5))\n",
    "print(\"Temps d'exécution :\", time()-debut)"
   ]
  },
  {
   "cell_type": "markdown",
   "metadata": {},
   "source": [
    "L'algorithme du gradient stochastique est très rapide, bien plus que la méthode du sous-gradient pour le même nombre d'itérations. Cependant, pour 50 fois plus d'itérations que la méthode du sous-gradient, on obtient a priori un moins bon résultat.\n",
    "\n",
    "**Cette méthode améliore donc la vitesse d'exécution mais ralentit la vitesse de convergence par rapport à la méthode du sous-gradient.**"
   ]
  },
  {
   "cell_type": "markdown",
   "metadata": {},
   "source": [
    "## 4 - Méthode du lagrangien augmenté"
   ]
  },
  {
   "cell_type": "markdown",
   "metadata": {},
   "source": [
    "### Question 4.1 \n",
    "\n",
    "Le Lagrangien du problème (1) peut s'écrire, pour tout $\\phi \\in \\textbf{R}^{2n}$ : \n",
    "\n",
    "$$ L(v,\\xi ; \\phi) = \\left(\\frac{1}{2}\\sum\\limits_{i=0}^mv_j^2 + c\\sum\\limits_{i=0}^n\\xi_i \\right) + \\left(\\sum\\limits_{i=0}^n[ -\\xi_i\\phi_i +\\phi_{i+n}(1 - y_{i+n}(x_{i+n}^Tv+a) - \\xi_{i+n})]\\right) - \\sum\\limits_{i=0}^{2n} \\iota_{\\textbf{R}_+}(\\phi_i) $$\n",
    "\n",
    "en regroupant les termes de contrainte d'inégalité. "
   ]
  },
  {
   "cell_type": "markdown",
   "metadata": {},
   "source": [
    "### Question 4.2\n",
    "\n",
    "On a posé $g : (x, \\phi) \\mapsto -\\frac{1}{2\\rho}\\phi^2 + \\frac{\\rho}{2}(\\text{max}(0,x + \\rho^{-1}\\phi))^2$.\n",
    "\n",
    "En prolongeant la dérivée de $ x \\mapsto max(0,x)^2$ par continuité en 0, on obtient qu'il s'agit d'une fonction continuement dérivable en 0, de dérivée $ x \\mapsto 2max(0,x)$.\n",
    "\n",
    "Par conséquent, on peut dériver en utilisant les règles usuelles de composition. On obtient ainsi :\n",
    "\n",
    "$$\\begin{align} \n",
    "\\nabla_xg(x,\\phi) &= \\rho \\text{max}(0,x + \\rho^{-1}\\phi) \\\\\n",
    "\\\\\n",
    "\\nabla_{\\phi}g(x,\\phi) &= -\\rho^{-1}\\phi + \\frac{\\rho}{\\rho} \\text{max}(0,x + \\rho^{-1}\\phi) = \\text{max}(-\\rho^{-1}\\phi,x )\n",
    "\\end{align}$$"
   ]
  },
  {
   "cell_type": "markdown",
   "metadata": {},
   "source": [
    "### Question 4.3\n",
    "On a que $ x \\mapsto \\nabla_xg(x,\\phi) = \\rho \\text{max}(0,x + \\rho^{-1}\\phi)  $ est une fonction croissante sur $\\mathbb{R}$ (car $\\rho > 0$), on a donc la convexité de $x \\mapsto g(x,\\phi)$ quel que soit $\\phi$.\n",
    "\n",
    "De même, $ \\phi \\mapsto \\nabla_{\\phi}g(x,\\phi) = \\text{max}(-\\rho^{-1}\\phi,x ) $ est décroissante (car $-\\rho < 0$), on a donc la concavité de $\\phi \\mapsto g(x,\\phi)$ quel que soit $x$."
   ]
  },
  {
   "cell_type": "markdown",
   "metadata": {},
   "source": [
    "### Question 4.4\n",
    "\n",
    "Nous allons coder la méthode du gradient afin de minimiser le Lagrangien par rapport à $v$, $a$ et $\\xi$. Avant de commencer à itérer, nous allons expliciter le gradient du Lagrangien $L$ dans ces 3 directions : \n",
    "\n",
    "$$\\begin{align} \n",
    "\\nabla_vL(v,a,\\xi,\\phi,\\psi) &= v - \\sum\\limits_{i=1}^n y_ix_i \\rho max(0, -\\xi_i + 1 - y_{i}(x_{i}^Tv+a) + \\phi_i\\rho^{-1}) \\\\\n",
    "\\\\\n",
    "\\nabla_aL(v,a,\\xi,\\phi,\\psi) &= - \\sum\\limits_{i=1}^n y_i \\rho max(0, -\\xi_i + 1 - y_{i}(x_{i}^Tv+a) + \\phi_i\\rho^{-1}) \\\\ \n",
    "\\\\\n",
    "\\nabla_{\\xi}L(v,a,\\xi,\\phi,\\psi) &= c - (\\rho max(0, \\rho^{-1}\\phi_i - \\xi_i))_i- ( \\rho max(0, -\\xi_i + 1 - y_{i}(x_{i}^Tv+a) + \\phi_i\\rho^{-1}))_i\n",
    "\\end{align}$$ \n",
    "\n",
    "\n",
    "En utilisant cette information, on utilise la méthode du gradient sur le Lagrangien :\n"
   ]
  },
  {
   "cell_type": "code",
   "execution_count": 30,
   "metadata": {},
   "outputs": [],
   "source": [
    "def grad_x_g(x,phi,rho):\n",
    "    return rho * np.maximum(0, x + phi/rho)\n",
    "\n",
    "def gradient_lagrangien(phi, psi, epsilon = 1, rho = 2):\n",
    "    \n",
    "    nu, a, xi = np.zeros(m-1),epsilon +1, np.zeros(n)\n",
    "    \n",
    "    N = 1 - M(nu,a)\n",
    "\n",
    "\n",
    "    grad_nu = nu - (M1.T@grad_x_g(N-xi,phi,rho))[:-1]\n",
    "    grad_a = - y.T@grad_x_g(N-xi,phi,rho)     \n",
    "    grad_xi = 1 - grad_x_g(-xi,phi,rho) - grad_x_g(N-xi,phi,rho)\n",
    "\n",
    "    norm = grad_a**2 + np.sum(grad_nu**2) + np.sum(grad_xi**2)\n",
    "    \n",
    "    k=1\n",
    "    \n",
    "    while (norm > epsilon**2):\n",
    "        grad_nu = nu - (M1.T@grad_x_g(N-xi,phi,rho))[:-1]\n",
    "        grad_a = - y.T@grad_x_g(N-xi,phi,rho)     \n",
    "        grad_xi = 1 - grad_x_g(-xi,phi,rho) - grad_x_g(N-xi,phi,rho)\n",
    "         \n",
    "        norm = grad_a**2 + np.sum(grad_nu**2) + np.sum(grad_xi**2)\n",
    "        nu = nu - grad_nu/750     \n",
    "        a = a - grad_a/750         \n",
    "        xi = xi - grad_xi/750\n",
    "        N = 1- M(nu,a)\n",
    "\n",
    "        k+=1\n",
    "            \n",
    "    return nu, a, xi"
   ]
  },
  {
   "cell_type": "markdown",
   "metadata": {},
   "source": [
    "### Question 4.5\n",
    "\n",
    "On a par calcul direct que : \n",
    "\n",
    "$$\\begin{align}  \n",
    "\\nabla_{\\phi}L(v,a,\\xi,\\phi,\\psi) &= (max( - \\frac{\\phi_i}{\\rho}, -\\xi_i)) \\\\\n",
    "\\\\\n",
    "\\nabla_{\\psi}L(v,a,\\xi,\\phi,\\psi) &= (max( - \\frac{\\psi_i}{\\rho}, -\\xi_i + 1 - y_{i}(x_{i}^Tv+a)))\n",
    "\\end{align}$$ \n",
    "\n",
    "On cherche ensuite à coder ce résultat : "
   ]
  },
  {
   "cell_type": "code",
   "execution_count": 25,
   "metadata": {},
   "outputs": [],
   "source": [
    "def grad_phi_g(x, phi, rho):\n",
    "    return np.maximum(-phi/rho, x)\n",
    "\n",
    "def grad_phi_psi(nu, a, xi, phi, psi, rho):    \n",
    "    \n",
    "    grad_phi = grad_phi_g(-xi,phi,rho)\n",
    "    \n",
    "    grad_psi = grad_phi_g(-xi + 1-M(nu,a), psi, rho)\n",
    "    \n",
    "    return grad_phi, grad_psi"
   ]
  },
  {
   "cell_type": "markdown",
   "metadata": {},
   "source": [
    "### Question 4.6\n",
    "\n",
    "On code enfin la méthode du lagrangien augmenté (Augmented Lagrangian Method) et on mesure ses résultats :"
   ]
  },
  {
   "cell_type": "code",
   "execution_count": 34,
   "metadata": {},
   "outputs": [],
   "source": [
    "def ALM(phi0, psi0, eps = 1, rho = 2, nb_iter  = 2000):\n",
    "    \n",
    "    phi, psi = phi0, psi0\n",
    "    \n",
    "    for k in range(nb_iter):\n",
    "        \n",
    "        nu, a, xi = gradient_lagrangien(phi,psi,eps,eps)\n",
    "        grad_phi, grad_psi = grad_phi_psi(nu, a, xi, phi, psi, rho)\n",
    "        \n",
    "        phi += rho*grad_phi\n",
    "        psi += rho*grad_psi\n",
    "    \n",
    "    return nu, a, xi"
   ]
  },
  {
   "cell_type": "code",
   "execution_count": 38,
   "metadata": {},
   "outputs": [
    {
     "name": "stdout",
     "output_type": "stream",
     "text": [
      "Temps d'exécution : 254.81454467773438\n"
     ]
    }
   ],
   "source": [
    "debut = time()\n",
    "test_nu,test_a,test_xi = ALM(np.zeros(n),np.zeros(n))\n",
    "print(\"Temps d'exécution :\", time()-debut)"
   ]
  },
  {
   "cell_type": "code",
   "execution_count": 39,
   "metadata": {},
   "outputs": [
    {
     "data": {
      "text/plain": [
       "28.464571080831973"
      ]
     },
     "execution_count": 39,
     "metadata": {},
     "output_type": "execute_result"
    }
   ],
   "source": [
    "subdiff_f(test_nu, test_a)[0]"
   ]
  },
  {
   "cell_type": "markdown",
   "metadata": {},
   "source": [
    "## 5 - Comparaison"
   ]
  },
  {
   "cell_type": "markdown",
   "metadata": {},
   "source": [
    "### Question 5.1\n",
    "\n",
    "Nous allons comparer ces différentes méthodes en termes de résultat et de vitesse d'exécution.\n",
    "\n",
    "On peut recenser ces informations sous forme de tableau :\n",
    "\n",
    "|  | Méthode du sous-gradient classique |  Méthode du sous-gradient stochastique  | Méthode du sous-gradient stochastique | Méthode du lagrangien augmenté  |   |\n",
    "|---|---|---|:-:|---|---|\n",
    "| Résultat final  | 26.570582119490396  | 36.24984734250739 | 28.84140332580188 | 28.464571080831973   |   |\n",
    "| Temps d'exécution  | 6.529015779495239 s| 0.29809093475341797 s| 14.573121070861816 s| 254.81454467773438 s|   |\n",
    "| Nombre d'itérations  | $10~000$ | $10~000$ | $500~000$ | $2~000$ |   |\n",
    "\n",
    "A la lumière de ces résultats, nous pouvons dire que :\n",
    "\n",
    "\n",
    "* la méthode du sous-gradient fournit le meilleur résultat, pour un temps de $6.5$ secondes et $10~000$ opérations.\n",
    "\n",
    "\n",
    "* la méthode du sous-gradient stochastique est la plus rapide (moins de 0.3 secondes) mais fournit un moins bon résultat que la méthode précédente, même avec $500~000$ itérations.\n",
    "\n",
    "\n",
    "* la méthode du lagrangien augmentée est de loin la plus longue (plus de 4 minutes pour $2~000$ itérations). Le résultat obtenu in fine n'est pas meilleur que celui de la première méthode.\n",
    "\n",
    "\n",
    "Pour conclure, il semble que le meilleur compromis entre temps d'exécution et précision du résultat soit d'utiliser la première méthode, i.e. la **méthode du sous-gradient classique**."
   ]
  }
 ],
 "metadata": {
  "kernelspec": {
   "display_name": "Python 3",
   "language": "python",
   "name": "python3"
  },
  "language_info": {
   "codemirror_mode": {
    "name": "ipython",
    "version": 3
   },
   "file_extension": ".py",
   "mimetype": "text/x-python",
   "name": "python",
   "nbconvert_exporter": "python",
   "pygments_lexer": "ipython3",
   "version": "3.7.3"
  }
 },
 "nbformat": 4,
 "nbformat_minor": 2
}
